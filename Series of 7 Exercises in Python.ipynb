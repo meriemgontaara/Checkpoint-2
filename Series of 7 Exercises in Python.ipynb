{
 "cells": [
  {
   "cell_type": "markdown",
   "metadata": {},
   "source": [
    "### Question 1\n",
    "Write a program that will find all numbers which are divisible by 7 but are not a multiple of 5, between 2000 and 3200 (both included). The numbers obtained should be printed in a list.\n",
    "\n",
    "Hints: Consider using the range(#begin, #end) method."
   ]
  },
  {
   "cell_type": "code",
   "execution_count": 1,
   "metadata": {},
   "outputs": [
    {
     "name": "stdout",
     "output_type": "stream",
     "text": [
      "2002 is divisible by 7 and not a multiple of 5\n",
      "2009 is divisible by 7 and not a multiple of 5\n",
      "2016 is divisible by 7 and not a multiple of 5\n",
      "2023 is divisible by 7 and not a multiple of 5\n",
      "2037 is divisible by 7 and not a multiple of 5\n",
      "2044 is divisible by 7 and not a multiple of 5\n",
      "2051 is divisible by 7 and not a multiple of 5\n",
      "2058 is divisible by 7 and not a multiple of 5\n",
      "2072 is divisible by 7 and not a multiple of 5\n",
      "2079 is divisible by 7 and not a multiple of 5\n",
      "2086 is divisible by 7 and not a multiple of 5\n",
      "2093 is divisible by 7 and not a multiple of 5\n",
      "2107 is divisible by 7 and not a multiple of 5\n",
      "2114 is divisible by 7 and not a multiple of 5\n",
      "2121 is divisible by 7 and not a multiple of 5\n",
      "2128 is divisible by 7 and not a multiple of 5\n",
      "2142 is divisible by 7 and not a multiple of 5\n",
      "2149 is divisible by 7 and not a multiple of 5\n",
      "2156 is divisible by 7 and not a multiple of 5\n",
      "2163 is divisible by 7 and not a multiple of 5\n",
      "2177 is divisible by 7 and not a multiple of 5\n",
      "2184 is divisible by 7 and not a multiple of 5\n",
      "2191 is divisible by 7 and not a multiple of 5\n",
      "2198 is divisible by 7 and not a multiple of 5\n",
      "2212 is divisible by 7 and not a multiple of 5\n",
      "2219 is divisible by 7 and not a multiple of 5\n",
      "2226 is divisible by 7 and not a multiple of 5\n",
      "2233 is divisible by 7 and not a multiple of 5\n",
      "2247 is divisible by 7 and not a multiple of 5\n",
      "2254 is divisible by 7 and not a multiple of 5\n",
      "2261 is divisible by 7 and not a multiple of 5\n",
      "2268 is divisible by 7 and not a multiple of 5\n",
      "2282 is divisible by 7 and not a multiple of 5\n",
      "2289 is divisible by 7 and not a multiple of 5\n",
      "2296 is divisible by 7 and not a multiple of 5\n",
      "2303 is divisible by 7 and not a multiple of 5\n",
      "2317 is divisible by 7 and not a multiple of 5\n",
      "2324 is divisible by 7 and not a multiple of 5\n",
      "2331 is divisible by 7 and not a multiple of 5\n",
      "2338 is divisible by 7 and not a multiple of 5\n",
      "2352 is divisible by 7 and not a multiple of 5\n",
      "2359 is divisible by 7 and not a multiple of 5\n",
      "2366 is divisible by 7 and not a multiple of 5\n",
      "2373 is divisible by 7 and not a multiple of 5\n",
      "2387 is divisible by 7 and not a multiple of 5\n",
      "2394 is divisible by 7 and not a multiple of 5\n",
      "2401 is divisible by 7 and not a multiple of 5\n",
      "2408 is divisible by 7 and not a multiple of 5\n",
      "2422 is divisible by 7 and not a multiple of 5\n",
      "2429 is divisible by 7 and not a multiple of 5\n",
      "2436 is divisible by 7 and not a multiple of 5\n",
      "2443 is divisible by 7 and not a multiple of 5\n",
      "2457 is divisible by 7 and not a multiple of 5\n",
      "2464 is divisible by 7 and not a multiple of 5\n",
      "2471 is divisible by 7 and not a multiple of 5\n",
      "2478 is divisible by 7 and not a multiple of 5\n",
      "2492 is divisible by 7 and not a multiple of 5\n",
      "2499 is divisible by 7 and not a multiple of 5\n",
      "2506 is divisible by 7 and not a multiple of 5\n",
      "2513 is divisible by 7 and not a multiple of 5\n",
      "2527 is divisible by 7 and not a multiple of 5\n",
      "2534 is divisible by 7 and not a multiple of 5\n",
      "2541 is divisible by 7 and not a multiple of 5\n",
      "2548 is divisible by 7 and not a multiple of 5\n",
      "2562 is divisible by 7 and not a multiple of 5\n",
      "2569 is divisible by 7 and not a multiple of 5\n",
      "2576 is divisible by 7 and not a multiple of 5\n",
      "2583 is divisible by 7 and not a multiple of 5\n",
      "2597 is divisible by 7 and not a multiple of 5\n",
      "2604 is divisible by 7 and not a multiple of 5\n",
      "2611 is divisible by 7 and not a multiple of 5\n",
      "2618 is divisible by 7 and not a multiple of 5\n",
      "2632 is divisible by 7 and not a multiple of 5\n",
      "2639 is divisible by 7 and not a multiple of 5\n",
      "2646 is divisible by 7 and not a multiple of 5\n",
      "2653 is divisible by 7 and not a multiple of 5\n",
      "2667 is divisible by 7 and not a multiple of 5\n",
      "2674 is divisible by 7 and not a multiple of 5\n",
      "2681 is divisible by 7 and not a multiple of 5\n",
      "2688 is divisible by 7 and not a multiple of 5\n",
      "2702 is divisible by 7 and not a multiple of 5\n",
      "2709 is divisible by 7 and not a multiple of 5\n",
      "2716 is divisible by 7 and not a multiple of 5\n",
      "2723 is divisible by 7 and not a multiple of 5\n",
      "2737 is divisible by 7 and not a multiple of 5\n",
      "2744 is divisible by 7 and not a multiple of 5\n",
      "2751 is divisible by 7 and not a multiple of 5\n",
      "2758 is divisible by 7 and not a multiple of 5\n",
      "2772 is divisible by 7 and not a multiple of 5\n",
      "2779 is divisible by 7 and not a multiple of 5\n",
      "2786 is divisible by 7 and not a multiple of 5\n",
      "2793 is divisible by 7 and not a multiple of 5\n",
      "2807 is divisible by 7 and not a multiple of 5\n",
      "2814 is divisible by 7 and not a multiple of 5\n",
      "2821 is divisible by 7 and not a multiple of 5\n",
      "2828 is divisible by 7 and not a multiple of 5\n",
      "2842 is divisible by 7 and not a multiple of 5\n",
      "2849 is divisible by 7 and not a multiple of 5\n",
      "2856 is divisible by 7 and not a multiple of 5\n",
      "2863 is divisible by 7 and not a multiple of 5\n",
      "2877 is divisible by 7 and not a multiple of 5\n",
      "2884 is divisible by 7 and not a multiple of 5\n",
      "2891 is divisible by 7 and not a multiple of 5\n",
      "2898 is divisible by 7 and not a multiple of 5\n",
      "2912 is divisible by 7 and not a multiple of 5\n",
      "2919 is divisible by 7 and not a multiple of 5\n",
      "2926 is divisible by 7 and not a multiple of 5\n",
      "2933 is divisible by 7 and not a multiple of 5\n",
      "2947 is divisible by 7 and not a multiple of 5\n",
      "2954 is divisible by 7 and not a multiple of 5\n",
      "2961 is divisible by 7 and not a multiple of 5\n",
      "2968 is divisible by 7 and not a multiple of 5\n",
      "2982 is divisible by 7 and not a multiple of 5\n",
      "2989 is divisible by 7 and not a multiple of 5\n",
      "2996 is divisible by 7 and not a multiple of 5\n",
      "3003 is divisible by 7 and not a multiple of 5\n",
      "3017 is divisible by 7 and not a multiple of 5\n",
      "3024 is divisible by 7 and not a multiple of 5\n",
      "3031 is divisible by 7 and not a multiple of 5\n",
      "3038 is divisible by 7 and not a multiple of 5\n",
      "3052 is divisible by 7 and not a multiple of 5\n",
      "3059 is divisible by 7 and not a multiple of 5\n",
      "3066 is divisible by 7 and not a multiple of 5\n",
      "3073 is divisible by 7 and not a multiple of 5\n",
      "3087 is divisible by 7 and not a multiple of 5\n",
      "3094 is divisible by 7 and not a multiple of 5\n",
      "3101 is divisible by 7 and not a multiple of 5\n",
      "3108 is divisible by 7 and not a multiple of 5\n",
      "3122 is divisible by 7 and not a multiple of 5\n",
      "3129 is divisible by 7 and not a multiple of 5\n",
      "3136 is divisible by 7 and not a multiple of 5\n",
      "3143 is divisible by 7 and not a multiple of 5\n",
      "3157 is divisible by 7 and not a multiple of 5\n",
      "3164 is divisible by 7 and not a multiple of 5\n",
      "3171 is divisible by 7 and not a multiple of 5\n",
      "3178 is divisible by 7 and not a multiple of 5\n",
      "3192 is divisible by 7 and not a multiple of 5\n",
      "3199 is divisible by 7 and not a multiple of 5\n"
     ]
    }
   ],
   "source": [
    "MyList=[]\n",
    "for i in range(2000,3201):\n",
    "    if i%7==0 and i%5 !=0:\n",
    "        MyList.append(i)\n",
    "        print(i, \"is divisible by 7 and not a multiple of 5\")"
   ]
  },
  {
   "cell_type": "code",
   "execution_count": 2,
   "metadata": {},
   "outputs": [
    {
     "name": "stdout",
     "output_type": "stream",
     "text": [
      "[2002, 2009, 2016, 2023, 2037, 2044, 2051, 2058, 2072, 2079, 2086, 2093, 2107, 2114, 2121, 2128, 2142, 2149, 2156, 2163, 2177, 2184, 2191, 2198, 2212, 2219, 2226, 2233, 2247, 2254, 2261, 2268, 2282, 2289, 2296, 2303, 2317, 2324, 2331, 2338, 2352, 2359, 2366, 2373, 2387, 2394, 2401, 2408, 2422, 2429, 2436, 2443, 2457, 2464, 2471, 2478, 2492, 2499, 2506, 2513, 2527, 2534, 2541, 2548, 2562, 2569, 2576, 2583, 2597, 2604, 2611, 2618, 2632, 2639, 2646, 2653, 2667, 2674, 2681, 2688, 2702, 2709, 2716, 2723, 2737, 2744, 2751, 2758, 2772, 2779, 2786, 2793, 2807, 2814, 2821, 2828, 2842, 2849, 2856, 2863, 2877, 2884, 2891, 2898, 2912, 2919, 2926, 2933, 2947, 2954, 2961, 2968, 2982, 2989, 2996, 3003, 3017, 3024, 3031, 3038, 3052, 3059, 3066, 3073, 3087, 3094, 3101, 3108, 3122, 3129, 3136, 3143, 3157, 3164, 3171, 3178, 3192, 3199]\n"
     ]
    }
   ],
   "source": [
    "print(MyList)"
   ]
  },
  {
   "cell_type": "markdown",
   "metadata": {},
   "source": [
    "### Question 2 \n",
    "Write a program that can compute the factorial of a given number. (the factorial of n is the product of all positive integers less than or equal to n). for example factorial(5)= 5 x 4 x 3 x 2 x 1 the result is 120.  (i.e. factorial (0)=1)"
   ]
  },
  {
   "cell_type": "code",
   "execution_count": 3,
   "metadata": {},
   "outputs": [
    {
     "name": "stdout",
     "output_type": "stream",
     "text": [
      "Factorial 5 is  120\n",
      "Factorial 0 is  1\n"
     ]
    }
   ],
   "source": [
    "def factorial (n):\n",
    "    if n==0:\n",
    "        return 1\n",
    "    else:\n",
    "        F=1\n",
    "        for i in range (2, n+1):\n",
    "            F= F*i\n",
    "        return F\n",
    "print(\"Factorial 5 is \", factorial (5))\n",
    "print(\"Factorial 0 is \", factorial (0))"
   ]
  },
  {
   "cell_type": "markdown",
   "metadata": {},
   "source": [
    "### Question 3\n",
    "With a given integer number n, write a program to generate a dictionary that contains (i, i*i) such that is an integral number between 1 and n (both included). and then the program should print the dictionary. Suppose the following input is supplied to the program: 8 Then, the output should be: {1: 1, 2: 4, 3: 9, 4: 16, 5: 25, 6: 36, 7: 49, 8: 64}  "
   ]
  },
  {
   "cell_type": "code",
   "execution_count": 5,
   "metadata": {},
   "outputs": [
    {
     "name": "stdout",
     "output_type": "stream",
     "text": [
      "8\n",
      "{1: 1, 2: 4, 3: 9, 4: 16, 5: 25, 6: 36, 7: 49, 8: 64}\n"
     ]
    }
   ],
   "source": [
    "n = int(input())\n",
    "MyDict = {}\n",
    "for i in range (1,n+1):\n",
    "  MyDict[i] =i*i\n",
    "print(MyDict)"
   ]
  },
  {
   "cell_type": "markdown",
   "metadata": {},
   "source": [
    "### Question 4\n",
    "Given a non-empty string and an int n, return a new string where the char at index n has been removed. The value of n will be a valid index of a char in the original string (i.e. n will be in the range 0..len(str)-1 inclusive). \n",
    "\n",
    "missing_char('kitten', 1) → 'ktten'    for example here we remove \"i\" which is located in the index 1\n",
    "\n",
    "missing_char('kitten', 0) → 'itten'   here we remove \"k\" which is in the index 0\n",
    "\n",
    "missing_char('kitten', 4) → 'kittn'   here we remove \"e\" which is in the index 4"
   ]
  },
  {
   "cell_type": "code",
   "execution_count": 6,
   "metadata": {},
   "outputs": [
    {
     "name": "stdout",
     "output_type": "stream",
     "text": [
      "1\n",
      "Ktten\n"
     ]
    }
   ],
   "source": [
    "n = int(input())\n",
    "char=\"Kitten\"\n",
    "for i in range (len(char)-1):\n",
    "    new_char= char.replace(char[n],\"\")\n",
    "print(new_char)"
   ]
  },
  {
   "cell_type": "markdown",
   "metadata": {},
   "source": [
    "### Question 5\n",
    "Write a NumPy program to convert a NumPy array into a Python list structure.\n",
    "\n",
    "Expected Output: \n",
    "\n",
    "Original array elements: [[0 1] [2 3] [4 5]] \n",
    "\n",
    "Array to list: [[0, 1], [2, 3], [4, 5]] \n",
    " \n",
    "\n",
    "Hint: we can use the to_list() function to ensure the conversion."
   ]
  },
  {
   "cell_type": "markdown",
   "metadata": {},
   "source": [
    "**Original array elements**"
   ]
  },
  {
   "cell_type": "code",
   "execution_count": 7,
   "metadata": {},
   "outputs": [
    {
     "name": "stdout",
     "output_type": "stream",
     "text": [
      "original array elements:  [[0 1]\n",
      " [2 3]\n",
      " [4 5]]\n"
     ]
    }
   ],
   "source": [
    "import numpy as np\n",
    "original_array= np.array([[0,1], [2,3], [4,5]])\n",
    "print(\"original array elements: \", original_array)"
   ]
  },
  {
   "cell_type": "markdown",
   "metadata": {},
   "source": [
    "**Array to list**"
   ]
  },
  {
   "cell_type": "code",
   "execution_count": 8,
   "metadata": {},
   "outputs": [
    {
     "name": "stdout",
     "output_type": "stream",
     "text": [
      "Array to list:  [[0, 1], [2, 3], [4, 5]]\n"
     ]
    }
   ],
   "source": [
    "list=original_array.tolist()\n",
    "print(\"Array to list: \", list)"
   ]
  },
  {
   "cell_type": "markdown",
   "metadata": {},
   "source": [
    "### Question 6\n",
    "Write a NumPy program to compute the covariance matrix of two given arrays. \n",
    "\n",
    "Original array1: [0 1 2] \n",
    "\n",
    "Original array2: [2 1 0] \n",
    "\n",
    "Covariance matrix of the said arrays: [[ 1. -1.] [-1. 1.]]\n",
    " \n",
    "\n",
    "Hint: We can use the np.cov() function to calculate the covariance between these two arrays"
   ]
  },
  {
   "cell_type": "markdown",
   "metadata": {},
   "source": [
    "**Original array1**"
   ]
  },
  {
   "cell_type": "code",
   "execution_count": 9,
   "metadata": {},
   "outputs": [
    {
     "name": "stdout",
     "output_type": "stream",
     "text": [
      "Original array1:  [0, 1, 2]\n"
     ]
    }
   ],
   "source": [
    "Original_array1= [0,1,2]\n",
    "print(\"Original array1: \", Original_array1)"
   ]
  },
  {
   "cell_type": "markdown",
   "metadata": {},
   "source": [
    "**Original array2**"
   ]
  },
  {
   "cell_type": "code",
   "execution_count": 10,
   "metadata": {},
   "outputs": [
    {
     "name": "stdout",
     "output_type": "stream",
     "text": [
      "Original array2:  [2, 1, 0]\n"
     ]
    }
   ],
   "source": [
    "Original_array2= [2,1,0]\n",
    "print(\"Original array2: \", Original_array2)"
   ]
  },
  {
   "cell_type": "markdown",
   "metadata": {},
   "source": [
    "**Covariance matrix of the said arrays**"
   ]
  },
  {
   "cell_type": "code",
   "execution_count": 11,
   "metadata": {},
   "outputs": [
    {
     "name": "stdout",
     "output_type": "stream",
     "text": [
      "Covariance matrix of the said arrays: [[ 1. -1.]\n",
      " [-1.  1.]]\n"
     ]
    }
   ],
   "source": [
    "Covariance_matrix=np.cov(Original_array1, Original_array2)\n",
    "print(\"Covariance matrix of the said arrays:\", Covariance_matrix)"
   ]
  },
  {
   "cell_type": "markdown",
   "metadata": {},
   "source": [
    "### Question 7\n",
    "Question: Write a program that calculates and prints the value according to the given formula: Q = Square root of [(2 * C * D)/H] \n",
    "\n",
    "The following are the fixed values of C and H: C is 50. H is 30. \n",
    "\n",
    "D is the variable whose values should be input into your program in a comma-separated sequence. (that means D contains more than value)\n",
    "\n",
    "Example Let's assume the following comma-separated input sequence is given to the program: 100,150,180 The output of the program should be: 18,22,24 \n",
    "\n",
    "To further explain this, we will obtain a result for each value of D:  Q1= Square root of [(2 * C * 100)/H] =18, Q2= Square root of [(2 * C * 150)/H] = 22 and Q3 = Square root of [(2 * C * 180)/H]  = 24\n",
    "\n",
    "Hints: If the output received is in decimal form, it should be rounded off to its nearest value (for example, if the output received is 26.0, it should be printed as 26) In case of input data being supplied to the question, it should be assumed to be a console input. "
   ]
  },
  {
   "cell_type": "code",
   "execution_count": 13,
   "metadata": {},
   "outputs": [
    {
     "name": "stdout",
     "output_type": "stream",
     "text": [
      "D: 100,150,180\n",
      "[18, 22, 24]\n"
     ]
    }
   ],
   "source": [
    "import math\n",
    "C=50\n",
    "H=30\n",
    "n= input(\"D: \", )\n",
    "n= n.split(\",\")\n",
    "list= []\n",
    "for D in n:\n",
    "    Q=round(math.sqrt((2*C * int(D)/H)))\n",
    "    list.append(Q)\n",
    "print(list)"
   ]
  }
 ],
 "metadata": {
  "kernelspec": {
   "display_name": "Python 3",
   "language": "python",
   "name": "python3"
  },
  "language_info": {
   "codemirror_mode": {
    "name": "ipython",
    "version": 3
   },
   "file_extension": ".py",
   "mimetype": "text/x-python",
   "name": "python",
   "nbconvert_exporter": "python",
   "pygments_lexer": "ipython3",
   "version": "3.8.3"
  }
 },
 "nbformat": 4,
 "nbformat_minor": 4
}
